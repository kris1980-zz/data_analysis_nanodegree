{
 "cells": [
  {
   "cell_type": "markdown",
   "metadata": {},
   "source": [
    "# Prosper loan data exploration \n",
    "## by Krishan Singh\n",
    "\n",
    "\n",
    "## Dataset\n",
    "\n",
    "> The dataset represents the loans made by a peer-to-peer lending based compny called Prosper . The dataset has 113937 records with 81 columns. There are a set of columns that describe the loan, for e.g. Terms, BorrowerAPR, LoanStatus. Then, there are attributes related to the credit-worthiness of the borrower, for e.g. ProsperScore, StatedMonthlyIncome, and Employmentstatus. \n",
    "\n",
    "\n",
    "## Summary of Findings\n",
    "\n",
    "> In the exploration I found that there is a strong relationship between the APR offered to a borrower and the loan amount taken. As the loan amount increases, the APR goes down. Another factor that has an influence on the APR is the Prosper Score, which is a risk score assigned to a borrower based on Prosper's historical data. Customers with higher propser score are able to avail loan at a lower interest rate. Although, the correlation turns to positive for borrowers with score of 10 and 11, which I found surprising. \n",
    "\n",
    "> I also examined what factors can help predict that a borrower will default on his loan. Overall 15% of the borrowers on Prosper's platform defaulted (or charged off), which surprisingly matches with the percentage of borrowers with Debt-to-income (DTI) ratio of greater than 0.36, which is considered a healthy ratio in the loan industry. \n",
    "\n",
    "\n",
    "## Key Insights for Presentation\n",
    "\n",
    "> For the presentation, I chose to focus on the factors that influence the borrower's APR. I start with showing the distribution of APR in the dataset, and then go on to show how APR varies with loan amount and Prosper score. Finally, I show how the relationship between loan amount and APR changes based on three  variables: IncomeRange, EmploymentStatus and ProsperScore"
   ]
  },
  {
   "cell_type": "code",
   "execution_count": null,
   "metadata": {},
   "outputs": [],
   "source": []
  }
 ],
 "metadata": {
  "kernelspec": {
   "display_name": "Python 3",
   "language": "python",
   "name": "python3"
  },
  "language_info": {
   "codemirror_mode": {
    "name": "ipython",
    "version": 3
   },
   "file_extension": ".py",
   "mimetype": "text/x-python",
   "name": "python",
   "nbconvert_exporter": "python",
   "pygments_lexer": "ipython3",
   "version": "3.7.4"
  }
 },
 "nbformat": 4,
 "nbformat_minor": 2
}
